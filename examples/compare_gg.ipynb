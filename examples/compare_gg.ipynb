{
 "cells": [
  {
   "cell_type": "code",
   "execution_count": 1,
   "metadata": {},
   "outputs": [],
   "source": [
    "import numpy as np\n",
    "import fitsio as fi\n",
    "import treecorr\n",
    "import matplotlib.pyplot as plt\n",
    "plt.style.use('y1a1')\n",
    "from mpl_toolkits.mplot3d import Axes3D\n",
    "%matplotlib inline\n"
   ]
  },
  {
   "cell_type": "code",
   "execution_count": 2,
   "metadata": {},
   "outputs": [],
   "source": [
    "# Read in the catalogues # Read  \n",
    "base = '/Users/hattifattener/Documents/ias/mbii/ia_modelling_public/catalogues/fiducial/'\n",
    "data = fi.FITS(base+'mbii-ndm1000-nst300-snapshot85.fits')[-1].read()"
   ]
  },
  {
   "cell_type": "markdown",
   "metadata": {},
   "source": [
    "### TreeCorr Approx."
   ]
  },
  {
   "cell_type": "code",
   "execution_count": 3,
   "metadata": {},
   "outputs": [],
   "source": [
    "# First TreeCorr\n",
    "# Main calculation\n",
    "cat = treecorr.Catalog(x=data['x'], y=data['y'], z=data['z'])\n",
    "cc = treecorr.NNCorrelation(min_sep=0.1, max_sep=33., nbins=21)\n",
    "\n",
    "cc.process(cat,cat)"
   ]
  },
  {
   "cell_type": "code",
   "execution_count": 4,
   "metadata": {},
   "outputs": [
    {
     "name": "stdout",
     "output_type": "stream",
     "text": [
      "Processing randoms\n",
      "RR\n",
      "DR\n",
      "RD\n"
     ]
    }
   ],
   "source": [
    "# Also do the randoms\n",
    "rr = treecorr.NNCorrelation(min_sep=0.1, max_sep=33., nbins=21)\n",
    "rn = treecorr.NNCorrelation(min_sep=0.1, max_sep=33., nbins=21)\n",
    "nr = treecorr.NNCorrelation(min_sep=0.1, max_sep=33., nbins=21)\n",
    "\n",
    "def randoms(cat1, period=100):\n",
    "    # Initialise randoms\n",
    "    np.random.seed(9000)\n",
    "    rcat = treecorr.Catalog(x=np.random.rand(cat.ntot)*period, y=np.random.rand(cat.ntot)*period, z=np.random.rand(cat.ntot)*period)\n",
    "    return rcat\n",
    "\n",
    "rcat = randoms(cat, period=100)\n",
    "\n",
    "print('Processing randoms',)\n",
    "print('RR',)\n",
    "rr.process(rcat,rcat)\n",
    "print('DR',)\n",
    "nr.process(cat,rcat)\n",
    "print('RD',)\n",
    "rn.process(rcat,cat)\n",
    "\n",
    "# Finish off\n",
    "xi, var = cc.calculateXi(rr, dr=nr, rd=rn)"
   ]
  },
  {
   "cell_type": "markdown",
   "metadata": {},
   "source": [
    "### TreeCorr Exact."
   ]
  },
  {
   "cell_type": "code",
   "execution_count": null,
   "metadata": {},
   "outputs": [
    {
     "name": "stdout",
     "output_type": "stream",
     "text": [
      "Processing randoms\n",
      "RR\n",
      "DR\n"
     ]
    }
   ],
   "source": [
    "cc0 = treecorr.NNCorrelation(min_sep=0.1, max_sep=33., nbins=21, bin_slop=0.0)\n",
    "cc0.process(cat,cat)\n",
    "\n",
    "rr = treecorr.NNCorrelation(min_sep=0.1, max_sep=33., nbins=21, bin_slop=0.0)\n",
    "rn = treecorr.NNCorrelation(min_sep=0.1, max_sep=33., nbins=21, bin_slop=0.0)\n",
    "nr = treecorr.NNCorrelation(min_sep=0.1, max_sep=33., nbins=21, bin_slop=0.0)\n",
    "\n",
    "print('Processing randoms',)\n",
    "print('RR',)\n",
    "rr.process(rcat,rcat)\n",
    "print('DR',)\n",
    "nr.process(cat,rcat)\n",
    "print('RD',)\n",
    "rn.process(rcat,cat)\n",
    "\n",
    "# Finish off\n",
    "xi0, var0 = cc0.calculateXi(rr, dr=nr, rd=rn)"
   ]
  },
  {
   "cell_type": "markdown",
   "metadata": {},
   "source": [
    "### Halotools Exact."
   ]
  },
  {
   "cell_type": "code",
   "execution_count": null,
   "metadata": {},
   "outputs": [],
   "source": [
    "from halotools.mock_observables.two_point_clustering import tpcf \n",
    "\n",
    "pvec = np.vstack((data['x'], data['y'], data['z'])).T\n",
    "rvec = np.vstack((rcat.x, rcat.y, rcat.z)).T\n",
    "rbins = np.logspace(np.log10(0.1), np.log10(33.), 22 )\n",
    "\n",
    "gg = tpcf(pvec, rbins, randoms=rvec, num_threads=1, estimator='Landy-Szalay') "
   ]
  },
  {
   "cell_type": "code",
   "execution_count": null,
   "metadata": {},
   "outputs": [],
   "source": [
    "diff = (xi-gg)/gg\n",
    "diff0 = (xi0-gg)/gg\n",
    "x = np.sqrt(rbins[1:]*rbins[:-1])\n",
    "\n",
    "\n",
    "plt.plot(x, diff, '+', color='k', label='slop$=$0.1')\n",
    "plt.plot(x, diff0, 'x', color='purple', label='slop$=$0.0')\n",
    "plt.axhline(0,color='k',ls=':')\n",
    "plt.xscale('log')\n",
    "plt.ylim(-0.008,0.008)\n",
    "plt.legend(loc='lower left')\n",
    "plt.ylabel('Frac. Diff.')\n",
    "plt.xlabel(r'Comoving Separation $r$ / $h^{-1}$Mpc')\n",
    "plt.show()\n",
    "print(100*diff)"
   ]
  },
  {
   "cell_type": "code",
   "execution_count": null,
   "metadata": {},
   "outputs": [],
   "source": []
  }
 ],
 "metadata": {
  "kernelspec": {
   "display_name": "Python 3",
   "language": "python",
   "name": "python3"
  },
  "language_info": {
   "codemirror_mode": {
    "name": "ipython",
    "version": 3
   },
   "file_extension": ".py",
   "mimetype": "text/x-python",
   "name": "python",
   "nbconvert_exporter": "python",
   "pygments_lexer": "ipython3",
   "version": "3.6.5"
  }
 },
 "nbformat": 4,
 "nbformat_minor": 2
}
